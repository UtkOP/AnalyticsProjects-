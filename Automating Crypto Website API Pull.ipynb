{
 "cells": [
  {
   "cell_type": "code",
   "execution_count": 25,
   "id": "a233e279-0418-47b8-b401-9ab7b3ba4143",
   "metadata": {},
   "outputs": [
    {
     "name": "stdout",
     "output_type": "stream",
     "text": [
      "API Runner completed.\n",
      "API Runner completed.\n",
      "API Runner completed.\n",
      "API Runner completed.\n"
     ]
    },
    {
     "ename": "KeyboardInterrupt",
     "evalue": "",
     "output_type": "error",
     "traceback": [
      "\u001b[0;31m---------------------------------------------------------------------------\u001b[0m",
      "\u001b[0;31mKeyboardInterrupt\u001b[0m                         Traceback (most recent call last)",
      "Cell \u001b[0;32mIn[25], line 60\u001b[0m\n\u001b[1;32m     58\u001b[0m     api_runner()\n\u001b[1;32m     59\u001b[0m     \u001b[38;5;28mprint\u001b[39m(\u001b[38;5;124m'\u001b[39m\u001b[38;5;124mAPI Runner completed.\u001b[39m\u001b[38;5;124m'\u001b[39m)\n\u001b[0;32m---> 60\u001b[0m     sleep(\u001b[38;5;241m60\u001b[39m)  \u001b[38;5;66;03m# Sleep for 1 minute between API calls\u001b[39;00m\n\u001b[1;32m     62\u001b[0m \u001b[38;5;66;03m# After the loop ends, you can check the data\u001b[39;00m\n\u001b[1;32m     63\u001b[0m \u001b[38;5;28mprint\u001b[39m(df)\n",
      "\u001b[0;31mKeyboardInterrupt\u001b[0m: "
     ]
    }
   ],
   "source": [
    "# Importing necessary libraries\n",
    "from requests import Request, Session\n",
    "from requests.exceptions import ConnectionError, Timeout, TooManyRedirects\n",
    "import json\n",
    "import pandas as pd\n",
    "import os\n",
    "from time import sleep\n",
    "\n",
    "# Setting up the URL and headers for the API\n",
    "url = 'https://pro-api.coinmarketcap.com/v1/cryptocurrency/listings/latest'\n",
    "parameters = {\n",
    "    'start': '1',\n",
    "    'limit': '15',\n",
    "    'convert': 'USD'\n",
    "}\n",
    "headers = {\n",
    "    'Accepts': 'application/json',\n",
    "    'X-CMC_PRO_API_KEY': '0ad53085-1cb2-4eb8-ad9e-3ffbd7e56509',\n",
    "}\n",
    "\n",
    "# Create a session and update the headers\n",
    "session = Session()\n",
    "session.headers.update(headers)\n",
    "\n",
    "# Global DataFrame for storing API data\n",
    "df = pd.DataFrame()\n",
    "\n",
    "# Define API runner function\n",
    "def api_runner():\n",
    "    global df\n",
    "\n",
    "    try:\n",
    "        # Request the data from the API\n",
    "        response = session.get(url, params=parameters)\n",
    "        data = json.loads(response.text)\n",
    "\n",
    "        # Normalize and structure the data\n",
    "        df2 = pd.json_normalize(data['data'])\n",
    "        df2['Timestamp'] = pd.to_datetime('now')\n",
    "        \n",
    "        # Append new data to the main DataFrame\n",
    "        df = pd.concat([df, df2], ignore_index=True)\n",
    "\n",
    "        # Define the path to save the CSV\n",
    "        file_path = r'/Users/utkarshkumargiri/Downloads/Crpto API Call/API_data.csv'\n",
    "\n",
    "        # Save the DataFrame to CSV\n",
    "        if not os.path.isfile(file_path):\n",
    "            df.to_csv(file_path, header='column_names', index=False)\n",
    "        else:\n",
    "            df.to_csv(file_path, mode='a', header=False, index=False)\n",
    "            \n",
    "    except (ConnectionError, Timeout, TooManyRedirects) as e:\n",
    "        print(e)\n",
    "\n",
    "# Running the API calls and saving data every minute (avoid rate limits)\n",
    "for i in range(333):\n",
    "    api_runner()\n",
    "    print('API Runner completed.')\n",
    "    sleep(60)  # Sleep for 1 minute between API calls\n",
    "\n",
    "# After the loop ends, you can check the data\n",
    "print(df)\n"
   ]
  },
  {
   "cell_type": "code",
   "execution_count": null,
   "id": "573d4bd3-f096-48f2-bb57-264de7022623",
   "metadata": {},
   "outputs": [],
   "source": []
  },
  {
   "cell_type": "code",
   "execution_count": null,
   "id": "f40183e6-fb80-460c-af83-af151e654656",
   "metadata": {},
   "outputs": [],
   "source": []
  },
  {
   "cell_type": "code",
   "execution_count": null,
   "id": "27aca176-6dbf-479f-bf33-9fe7041ab6cb",
   "metadata": {},
   "outputs": [],
   "source": []
  },
  {
   "cell_type": "code",
   "execution_count": null,
   "id": "f459313b-a97a-4fa7-94aa-5eb40b5a3a49",
   "metadata": {},
   "outputs": [],
   "source": []
  }
 ],
 "metadata": {
  "kernelspec": {
   "display_name": "Python 3 (ipykernel)",
   "language": "python",
   "name": "python3"
  },
  "language_info": {
   "codemirror_mode": {
    "name": "ipython",
    "version": 3
   },
   "file_extension": ".py",
   "mimetype": "text/x-python",
   "name": "python",
   "nbconvert_exporter": "python",
   "pygments_lexer": "ipython3",
   "version": "3.12.4"
  }
 },
 "nbformat": 4,
 "nbformat_minor": 5
}
