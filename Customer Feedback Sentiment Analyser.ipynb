{
 "cells": [
  {
   "cell_type": "code",
   "execution_count": 4,
   "id": "aaeafa69-ba0c-4ef7-a7f7-c2647e25d75d",
   "metadata": {},
   "outputs": [],
   "source": [
    "#Importing libraries\n",
    "import pandas as pd\n",
    "from textblob import TextBlob\n",
    "import matplotlib.pyplot as plt\n",
    "import os"
   ]
  },
  {
   "cell_type": "code",
   "execution_count": 6,
   "id": "2c6ed5c1-5879-462e-8ba4-4da5cad92f2b",
   "metadata": {},
   "outputs": [],
   "source": [
    "#Function to classify sentiment based on polarity\n",
    "def get_sentiment(text):\n",
    "    analysis = TextBlob(text)\n",
    "    #Classify sentiment based on polarity score\n",
    "    if analysis.sentiment.polarity > 0:\n",
    "        return 'Positive'\n",
    "    elif analysis.sentiment.polarity == 0:\n",
    "        return 'Neutral'\n",
    "    else:\n",
    "        return 'Negative'"
   ]
  },
  {
   "cell_type": "code",
   "execution_count": 8,
   "id": "fda6d867-8402-4247-b23a-c3c51c4fd282",
   "metadata": {},
   "outputs": [],
   "source": [
    "#Loading the training & testing data \n",
    "train_data = pd.read_csv('/Users/utkarshkumargiri/Downloads/train_data.csv')  \n",
    "test_data = pd.read_csv('/Users/utkarshkumargiri/Downloads/test_data.csv')   "
   ]
  },
  {
   "cell_type": "code",
   "execution_count": 10,
   "id": "e44b1fe3-bc54-4687-95b3-46dab7cca4ae",
   "metadata": {},
   "outputs": [],
   "source": [
    "#Apply sentiment analysis to training data\n",
    "train_data['Sentiment'] = train_data['Feedback'].apply(get_sentiment)\n",
    "\n",
    "#Save training data results with sentiments to a specified location\n",
    "train_output_file = '/Users/utkarshkumargiri/Downloads/train_data_with_sentiment.csv'\n",
    "train_data.to_csv(train_output_file, index=False)\n",
    "\n",
    "#Apply sentiment analysis to test data\n",
    "test_data['Sentiment'] = test_data['Feedback'].apply(get_sentiment)\n",
    "\n",
    "#Save test data results with sentiments to a specified location\n",
    "test_output_file = '/Users/utkarshkumargiri/Downloads/test_data_with_sentiment.csv'\n",
    "test_data.to_csv(test_output_file, index=False)"
   ]
  },
  {
   "cell_type": "code",
   "execution_count": 12,
   "id": "14824bbe-8a3d-49a9-874a-737fbec43ac7",
   "metadata": {},
   "outputs": [
    {
     "data": {
      "image/png": "[encoded data removed]",
      "text/plain": [
       "<Figure size 600x400 with 1 Axes>"
      ]
     },
     "metadata": {},
     "output_type": "display_data"
    }
   ],
   "source": [
    "#Visualize sentiment distribution for the test data\n",
    "plt.figure(figsize=(6, 4))\n",
    "test_data['Sentiment'].value_counts().plot(kind='bar', color=['green', 'blue', 'red'])\n",
    "plt.title('Sentiment Distribution')\n",
    "plt.xlabel('Sentiment')\n",
    "plt.ylabel('Frequency')\n",
    "plt.xticks(rotation=0)\n",
    "plt.tight_layout()"
   ]
  },
  {
   "cell_type": "code",
   "execution_count": 14,
   "id": "45c22eab-69f6-4df5-8f9a-be4b1823ba96",
   "metadata": {},
   "outputs": [
    {
     "data": {
      "text/plain": [
       "<Figure size 640x480 with 0 Axes>"
      ]
     },
     "metadata": {},
     "output_type": "display_data"
    },
    {
     "data": {
      "text/plain": [
       "(/Users/utkarshkumargiri/Downloads/train_data_with_sentiment.csv,\n",
       " /Users/utkarshkumargiri/Downloads/test_data_with_sentiment.csv,\n",
       " /Users/utkarshkumargiri/Downloads/sentiment_distribution.png)"
      ]
     },
     "execution_count": 14,
     "metadata": {},
     "output_type": "execute_result"
    }
   ],
   "source": [
    "#Saving the sentiment distribution plot\n",
    "plot_file = '/Users/utkarshkumargiri/Downloads/sentiment_distribution.png'\n",
    "plt.savefig(plot_file)\n",
    "plt.show()\n",
    "\n",
    "#Make the generated files downloadable in Notebook\n",
    "from IPython.display import FileLink\n",
    "\n",
    "# Links to download CSV and Plot\n",
    "train_file_link = FileLink(train_output_file)\n",
    "test_file_link = FileLink(test_output_file)\n",
    "plot_file_link = FileLink(plot_file)\n",
    "\n",
    "train_file_link, test_file_link, plot_file_link"
   ]
  },
  {
   "cell_type": "code",
   "execution_count": null,
   "id": "2bf76819-7301-4828-80a5-d48a2d541d6f",
   "metadata": {},
   "outputs": [],
   "source": []
  },
  {
   "cell_type": "code",
   "execution_count": null,
   "id": "c0df98a8-fbcc-437e-9270-6c4da6cba113",
   "metadata": {},
   "outputs": [],
   "source": []
  },
  {
   "cell_type": "code",
   "execution_count": null,
   "id": "060ff6fb-859d-415f-8308-7c20ca930132",
   "metadata": {},
   "outputs": [],
   "source": []
  },
  {
   "cell_type": "code",
   "execution_count": null,
   "id": "7d15bc7d-a76b-42a9-9742-ae5cb4ed4ff1",
   "metadata": {},
   "outputs": [],
   "source": []
  },
  {
   "cell_type": "code",
   "execution_count": null,
   "id": "8eb1ccad-4f7c-4e3f-9dc2-71ea2ed4d6f2",
   "metadata": {},
   "outputs": [],
   "source": []
  },
  {
   "cell_type": "code",
   "execution_count": null,
   "id": "907e6b35-413f-4774-a3d5-2bb52e9a279f",
   "metadata": {},
   "outputs": [],
   "source": []
  }
 ],
 "metadata": {
  "kernelspec": {
   "display_name": "Python 3 (ipykernel)",
   "language": "python",
   "name": "python3"
  },
  "language_info": {
   "codemirror_mode": {
    "name": "ipython",
    "version": 3
   },
   "file_extension": ".py",
   "mimetype": "text/x-python",
   "name": "python",
   "nbconvert_exporter": "python",
   "pygments_lexer": "ipython3",
   "version": "3.12.4"
  }
 },
 "nbformat": 4,
 "nbformat_minor": 5
}
